{
  "nbformat": 4,
  "nbformat_minor": 0,
  "metadata": {
    "colab": {
      "provenance": []
    },
    "kernelspec": {
      "name": "python3",
      "display_name": "Python 3"
    },
    "language_info": {
      "name": "python"
    }
  },
  "cells": [
    {
      "cell_type": "code",
      "execution_count": 1,
      "metadata": {
        "colab": {
          "base_uri": "https://localhost:8080/",
          "height": 767
        },
        "id": "0_PIXnGCKRi7",
        "outputId": "37cc5afb-f170-40e3-d32a-01f4c75a0d74"
      },
      "outputs": [
        {
          "output_type": "stream",
          "name": "stdout",
          "text": [
            "\u001b[2K   \u001b[90m━━━━━━━━━━━━━━━━━━━━━━━━━━━━━━━━━━━━━━━━\u001b[0m \u001b[32m126.7/126.7 kB\u001b[0m \u001b[31m3.0 MB/s\u001b[0m eta \u001b[36m0:00:00\u001b[0m\n",
            "\u001b[2K   \u001b[90m━━━━━━━━━━━━━━━━━━━━━━━━━━━━━━━━━━━━━━━━\u001b[0m \u001b[32m46.9/46.9 MB\u001b[0m \u001b[31m12.2 MB/s\u001b[0m eta \u001b[36m0:00:00\u001b[0m\n",
            "\u001b[2K   \u001b[90m━━━━━━━━━━━━━━━━━━━━━━━━━━━━━━━━━━━━━━━━\u001b[0m \u001b[32m322.2/322.2 kB\u001b[0m \u001b[31m5.7 MB/s\u001b[0m eta \u001b[36m0:00:00\u001b[0m\n",
            "\u001b[2K   \u001b[90m━━━━━━━━━━━━━━━━━━━━━━━━━━━━━━━━━━━━━━━━\u001b[0m \u001b[32m95.2/95.2 kB\u001b[0m \u001b[31m5.0 MB/s\u001b[0m eta \u001b[36m0:00:00\u001b[0m\n",
            "\u001b[2K   \u001b[90m━━━━━━━━━━━━━━━━━━━━━━━━━━━━━━━━━━━━━━━━\u001b[0m \u001b[32m11.4/11.4 MB\u001b[0m \u001b[31m26.1 MB/s\u001b[0m eta \u001b[36m0:00:00\u001b[0m\n",
            "\u001b[2K   \u001b[90m━━━━━━━━━━━━━━━━━━━━━━━━━━━━━━━━━━━━━━━━\u001b[0m \u001b[32m72.0/72.0 kB\u001b[0m \u001b[31m3.9 MB/s\u001b[0m eta \u001b[36m0:00:00\u001b[0m\n",
            "\u001b[2K   \u001b[90m━━━━━━━━━━━━━━━━━━━━━━━━━━━━━━━━━━━━━━━━\u001b[0m \u001b[32m62.3/62.3 kB\u001b[0m \u001b[31m3.4 MB/s\u001b[0m eta \u001b[36m0:00:00\u001b[0m\n",
            "\u001b[?25hRunning Gradio in a Colab notebook requires sharing enabled. Automatically setting `share=True` (you can turn this off by setting `share=False` in `launch()` explicitly).\n",
            "\n",
            "Colab notebook detected. To show errors in colab notebook, set debug=True in launch()\n",
            "* Running on public URL: https://a8c1084ea6fbe54667.gradio.live\n",
            "\n",
            "This share link expires in 72 hours. For free permanent hosting and GPU upgrades, run `gradio deploy` from the terminal in the working directory to deploy to Hugging Face Spaces (https://huggingface.co/spaces)\n"
          ]
        },
        {
          "output_type": "display_data",
          "data": {
            "text/plain": [
              "<IPython.core.display.HTML object>"
            ],
            "text/html": [
              "<div><iframe src=\"https://a8c1084ea6fbe54667.gradio.live\" width=\"100%\" height=\"500\" allow=\"autoplay; camera; microphone; clipboard-read; clipboard-write;\" frameborder=\"0\" allowfullscreen></iframe></div>"
            ]
          },
          "metadata": {}
        },
        {
          "output_type": "execute_result",
          "data": {
            "text/plain": []
          },
          "metadata": {},
          "execution_count": 1
        }
      ],
      "source": [
        "# Install required packages\n",
        "!pip install groq python-dotenv gradio -q\n",
        "\n",
        "# Import necessary libraries\n",
        "from groq import Groq\n",
        "import gradio as gr\n",
        "import os\n",
        "\n",
        "# Define the GROQ API key directly in the code (replace with your actual key)\n",
        "GROQ_API_KEY = \"your_groq_api_key_here\"  # Replace this with your actual GROQ API key from GroqCloud\n",
        "\n",
        "# Initialize GROQ client with the defined API key\n",
        "client = Groq(api_key=GROQ_API_KEY)\n",
        "\n",
        "def generate_documentation(code_input):\n",
        "    \"\"\"Generate documentation using GROQ API.\"\"\"\n",
        "    if not code_input.strip():\n",
        "        return \"Error: No code provided for documentation.\"\n",
        "\n",
        "    # Prepare the prompt for GROQ\n",
        "    prompt = (\n",
        "        f\"Generate a detailed documentation or overview for the following code. \"\n",
        "        f\"Explain its purpose, structure, and functionality. Include comments on potential improvements if applicable. \"\n",
        "        f\"Code:\\n{code_input}\"\n",
        "    )\n",
        "\n",
        "    try:\n",
        "        # Call GROQ API for chat completion\n",
        "        response = client.chat.completions.create(\n",
        "            messages=[\n",
        "                {\"role\": \"system\", \"content\": \"You are a helpful code documentation assistant.\"},\n",
        "                {\"role\": \"user\", \"content\": prompt}\n",
        "            ],\n",
        "            model=\"llama-3.3-70b-versatile\",  # Use a suitable GROQ model\n",
        "            max_completion_tokens=2048,      # Adjust based on needs\n",
        "            temperature=0.2                  # Lower temperature for more deterministic output\n",
        "        )\n",
        "        return response.choices[0].message.content\n",
        "    except Exception as e:\n",
        "        return f\"Error generating documentation: {str(e)}\"\n",
        "\n",
        "def save_and_display_documentation(doc_text):\n",
        "    \"\"\"Save documentation to a file and return it for display.\"\"\"\n",
        "    filename = \"/content/output/documentation.md\"\n",
        "    # Create output directory if it doesn't exist\n",
        "    !mkdir -p /content/output\n",
        "    with open(filename, 'w') as file:\n",
        "        file.write(doc_text)\n",
        "    print(f\"Documentation saved to {filename}\")\n",
        "    # Provide a download link for the file\n",
        "    from google.colab import files\n",
        "    files.download(filename)\n",
        "    return doc_text\n",
        "\n",
        "def process_input(code_input, uploaded_file):\n",
        "    \"\"\"Process the input code (from textbox or uploaded file) and return documentation.\"\"\"\n",
        "    if uploaded_file:\n",
        "        code_input = uploaded_file.decode(\"utf-8\")  # Decode file content\n",
        "    if not code_input:\n",
        "        return \"Please provide code or upload a file.\"\n",
        "    documentation = generate_documentation(code_input)\n",
        "    return save_and_display_documentation(documentation)\n",
        "\n",
        "# Create Gradio interface\n",
        "interface = gr.Interface(\n",
        "    fn=process_input,\n",
        "    inputs=[\n",
        "        gr.Textbox(lines=10, label=\"Enter your code here\", placeholder=\"Type or paste your code...\"),\n",
        "        gr.File(label=\"Or upload a .py file\", file_types=[\".py\"])\n",
        "    ],\n",
        "    outputs=gr.Textbox(label=\"Generated Documentation\", lines=20),\n",
        "    title=\"Code Documentation Generator\",\n",
        "    description=\"Enter code or upload a .py file to generate detailed documentation using the GROQ API.\",\n",
        "    examples=[\n",
        "        [\"def add(a, b):\\n    return a + b\\nprint(add(2, 3))\"],\n",
        "        # Note: File example path needs to be adjusted after upload (e.g., \"/content/uploaded_file.py\")\n",
        "    ]\n",
        ")\n",
        "\n",
        "# Launch the interface\n",
        "interface.launch()"
      ]
    }
  ]
}